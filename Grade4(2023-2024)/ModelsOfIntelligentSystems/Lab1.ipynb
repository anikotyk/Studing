{
 "cells": [
  {
   "cell_type": "markdown",
   "id": "18efe707",
   "metadata": {},
   "source": [
    "# **Йорданія**\n",
    "\n",
    "## **Площа**\n",
    "Загальна площа: 89,342 км²\n",
    "\n",
    "## **Населення**\n",
    "Населення: близько 10 мільйонів осіб\n",
    "\n",
    "## **Державний устрій**\n",
    "Державний устрій: Конституційна монархія\n",
    "\n",
    "## **Видатні Персоналії**\n",
    "- *Король Абдулла II йорданський*\n",
    "- *Королева Ранія Аль-Абдулла*\n",
    "\n",
    "## **Пам'ятки Культури та Природи**\n",
    "### **Культурні Пам'ятки**\n",
    "1. *Амманський Римський театр*\n",
    "2. *Петра - археологічне диво світу*\n",
    "\n",
    "### **Природні Резервати**\n",
    "1. **Долина Ріффаїн**: Заповідник з багатою фауною та флорою.\n",
    "2. **Урдунська Долина**: Чудовий ландшафт із численними річками та водоспадами.\n",
    "\n",
    "## **Економіка**\n",
    "Йорданія має розвинену економіку, зокрема в сферах туризму, виробництва фосфатів та експорту.\n",
    "\n",
    "---\n",
    "\n",
    "[![Флаг Йорданії](https://flagsworld.org/img/cflags/jordan-flag.png)](https://flagsworld.org/img/cflags/jordan-flag.png)\n",
    "\n",
    "---\n"
   ]
  },
  {
   "cell_type": "code",
   "execution_count": 1,
   "id": "d5930f45",
   "metadata": {},
   "outputs": [],
   "source": [
    "def is_prime(num):\n",
    "    if num < 2:\n",
    "        return False\n",
    "    for i in range(2, int(num**0.5) + 1):\n",
    "        if num % i == 0:\n",
    "            return False\n",
    "    return True\n",
    "\n",
    "def find_primes_in_range(a, b):\n",
    "    primes = [num for num in range(max(2, a), b + 1) if is_prime(num)]\n",
    "    return primes\n",
    "\n",
    "def task_6():\n",
    "    a, b = map(int, input().split())\n",
    "    result = find_primes_in_range(a, b)\n",
    "    return result"
   ]
  },
  {
   "cell_type": "code",
   "execution_count": 2,
   "id": "f15029d9",
   "metadata": {},
   "outputs": [
    {
     "name": "stdout",
     "output_type": "stream",
     "text": [
      "3 15\n"
     ]
    },
    {
     "data": {
      "text/plain": [
       "[3, 5, 7, 11, 13]"
      ]
     },
     "execution_count": 2,
     "metadata": {},
     "output_type": "execute_result"
    }
   ],
   "source": [
    "task_6()"
   ]
  },
  {
   "cell_type": "code",
   "execution_count": 3,
   "id": "755177de",
   "metadata": {},
   "outputs": [
    {
     "name": "stdout",
     "output_type": "stream",
     "text": [
      "6 24\n"
     ]
    },
    {
     "data": {
      "text/plain": [
       "[7, 11, 13, 17, 19, 23]"
      ]
     },
     "execution_count": 3,
     "metadata": {},
     "output_type": "execute_result"
    }
   ],
   "source": [
    "task_6()"
   ]
  },
  {
   "cell_type": "code",
   "execution_count": null,
   "id": "75b6936e",
   "metadata": {},
   "outputs": [],
   "source": []
  }
 ],
 "metadata": {
  "kernelspec": {
   "display_name": "Python 3 (ipykernel)",
   "language": "python",
   "name": "python3"
  },
  "language_info": {
   "codemirror_mode": {
    "name": "ipython",
    "version": 3
   },
   "file_extension": ".py",
   "mimetype": "text/x-python",
   "name": "python",
   "nbconvert_exporter": "python",
   "pygments_lexer": "ipython3",
   "version": "3.11.5"
  }
 },
 "nbformat": 4,
 "nbformat_minor": 5
}
