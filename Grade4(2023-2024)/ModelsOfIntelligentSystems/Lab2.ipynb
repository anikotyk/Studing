{
 "cells": [
  {
   "cell_type": "markdown",
   "id": "280a3045",
   "metadata": {},
   "source": [
    "1. Виконати набір вправ. Всі завдання виконати 2 способами:\n",
    "а) з використанням універсальних функцій бібліотеки NumPy.\n",
    "b) за допомогою ітеративних конструкцій (з використанням\n",
    "циклів, спискових включень тощо).\n",
    "с) для обох випадків підрахувати час виконання скрипту та\n",
    "зробити висновки.\n",
    "\n",
    "Варіант 6"
   ]
  },
  {
   "cell_type": "markdown",
   "id": "c84228c2",
   "metadata": {},
   "source": [
    "Вправа 1. Вводиться число n. Вивести масив розміру n×n, в\n",
    "якому по діагоналі йдуть числа від 1 до n, а інші числа дорівнюють 0.\n",
    "In [2] task_1()\n",
    "5\n",
    "Out[2] [[1 0 0 0 0]\n",
    "[0 2 0 0 0]\n",
    "[0 0 3 0 0]\n",
    "[0 0 0 4 0]\n",
    "[0 0 0 0 5]]"
   ]
  },
  {
   "cell_type": "code",
   "execution_count": 39,
   "id": "cae8da79",
   "metadata": {},
   "outputs": [
    {
     "name": "stdout",
     "output_type": "stream",
     "text": [
      "5\n",
      "[[1 0 0 0 0]\n",
      " [0 2 0 0 0]\n",
      " [0 0 3 0 0]\n",
      " [0 0 0 4 0]\n",
      " [0 0 0 0 5]]\n"
     ]
    }
   ],
   "source": [
    "import numpy as np\n",
    "\n",
    "def task_1():\n",
    "    n = int(input())\n",
    "    result = np.zeros((n, n), dtype=int)\n",
    "    for i in range(n):\n",
    "        result[i, i] = i + 1\n",
    "    return result\n",
    "\n",
    "print(task_1())"
   ]
  },
  {
   "cell_type": "markdown",
   "id": "545409d2",
   "metadata": {},
   "source": [
    "Вправа 3. Вводяться 4 числа n, m, r, c. Вивести масив розміру\n",
    "n×m, в якому в кожному рядку з номером r і в кожному стовпчику з\n",
    "номером c стоять 0, а інші елементи дорівнюють 1.\n",
    "In [2] task_3()\n",
    "6 7 2 3\n",
    "Out[2] [[0 0 0 0 0 0 0]\n",
    "[0 1 1 0 1 1 0]\n",
    "[0 0 0 0 0 0 0]\n",
    "[0 1 1 0 1 1 0]\n",
    "[0 0 0 0 0 0 0]\n",
    "[0 1 1 0 1 1 0]]"
   ]
  },
  {
   "cell_type": "code",
   "execution_count": 40,
   "id": "31b2bfea",
   "metadata": {},
   "outputs": [
    {
     "name": "stdout",
     "output_type": "stream",
     "text": [
      "6 7 2 3\n",
      "[[0 0 0 0 0 0 0]\n",
      " [0 1 1 0 1 1 0]\n",
      " [0 0 0 0 0 0 0]\n",
      " [0 1 1 0 1 1 0]\n",
      " [0 0 0 0 0 0 0]\n",
      " [0 1 1 0 1 1 0]]\n"
     ]
    }
   ],
   "source": [
    "import numpy as np\n",
    "\n",
    "def task_3():\n",
    "    n, m, r, c = map(int, input().split())\n",
    "    result = np.ones((n, m), dtype=int)\n",
    "    result[np.arange(0, n, r), :] = 0  \n",
    "    result[:, np.arange(0, m, c)] = 0  \n",
    "    return result\n",
    "\n",
    "print(task_3())"
   ]
  },
  {
   "cell_type": "markdown",
   "id": "daf1722b",
   "metadata": {},
   "source": [
    "Вправа 4. Вводяться числа n і m. Вивести масив розміру n×m, в\n",
    "якому у першому рядку (рядок з нулевим індексом) йдуть числа від 0\n",
    "до m–1, а всі інші елементи матриці дорівнюють 0.\n",
    "In [2] task_4()\n",
    "3 4\n",
    "Out[2] [[0 1 2]\n",
    "[0 0 0]\n",
    "[0 0 0]\n",
    "[0 0 0]]"
   ]
  },
  {
   "cell_type": "code",
   "execution_count": 41,
   "id": "068a28b1",
   "metadata": {},
   "outputs": [
    {
     "name": "stdout",
     "output_type": "stream",
     "text": [
      "3 4\n",
      "[[0 1 2]\n",
      " [0 0 0]\n",
      " [0 0 0]\n",
      " [0 0 0]]\n"
     ]
    }
   ],
   "source": [
    "import numpy as np\n",
    "\n",
    "def task_4():\n",
    "    n, m = map(int, input().split())\n",
    "    result = np.zeros((m, n), dtype=int)\n",
    "    result[0] = np.arange(n)\n",
    "    return result\n",
    "\n",
    "print(task_4())"
   ]
  },
  {
   "cell_type": "markdown",
   "id": "59f48fc1",
   "metadata": {},
   "source": [
    "Вправа 6. З клавіатури вводиться масив. Замінити всі ненульові\n",
    "елементи на –1.\n",
    "In [2] task_6()\n",
    "3 4 0 9 7 0 6 0 4 0 3\n",
    "Out[2] [-1 -1 0 -1 -1 0 -1 0 -1 0 -1]"
   ]
  },
  {
   "cell_type": "code",
   "execution_count": 42,
   "id": "41f87bd2",
   "metadata": {},
   "outputs": [
    {
     "name": "stdout",
     "output_type": "stream",
     "text": [
      "3 4 0 9 7 0 6 0 4 0 3\n",
      "[-1 -1  0 -1 -1  0 -1  0 -1  0 -1]\n"
     ]
    }
   ],
   "source": [
    "import numpy as np\n",
    "\n",
    "def task_6():\n",
    "    array = np.array(list(map(int, input().split())))\n",
    "    array[array != 0] = -1\n",
    "    return array\n",
    "\n",
    "print(task_6())"
   ]
  },
  {
   "cell_type": "markdown",
   "id": "826b65a1",
   "metadata": {},
   "source": [
    "Вправа 10. Вводиться числа n i m. Створити масив випадкових\n",
    "значень n×m і обчислити мінімальне, максимальне значення, середнє та\n",
    "середньо квадратичне відхилення, округлене до 3 знаків після коми.\n",
    "In [2] task_10()\n",
    "4 5\n",
    "Out [2] мінімум: 0.038\n",
    "максимум: 0.946\n",
    "середнє: 0.593\n",
    "дисперсія: 0.302"
   ]
  },
  {
   "cell_type": "code",
   "execution_count": 43,
   "id": "c08ece51",
   "metadata": {},
   "outputs": [
    {
     "name": "stdout",
     "output_type": "stream",
     "text": [
      "4 5\n",
      "мінімум: 0.173\n",
      "максимум: 0.964\n",
      "середнє: 0.469\n",
      "дисперсія: 0.052\n"
     ]
    }
   ],
   "source": [
    "import numpy as np\n",
    "\n",
    "def task_10():\n",
    "    n, m = map(int, input().split())\n",
    "    array = np.random.rand(n, m)\n",
    "    \n",
    "    minimum = np.min(array)\n",
    "    maximum = np.max(array)\n",
    "    mean = np.mean(array)\n",
    "    variance = np.var(array)\n",
    "    std_deviation = np.sqrt(variance)\n",
    "    \n",
    "    return f\"мінімум: {minimum:.3f}\\nмаксимум: {maximum:.3f}\\nсереднє: {mean:.3f}\\nдисперсія: {variance:.3f}\"\n",
    "\n",
    "print(task_10())"
   ]
  },
  {
   "cell_type": "markdown",
   "id": "59ed2378",
   "metadata": {},
   "source": [
    "Вправа 12. Створити масив одиниць розміром n×n та створити в\n",
    "ньому «рамку», що утворюється з 0.\n",
    "In [2] task_12()\n",
    "4\n",
    "Out [2] [[0. 0. 0. 0.]\n",
    "[0. 1. 1. 0.]\n",
    "[0. 1. 1. 0.]\n",
    "[0. 0. 0. 0.]]"
   ]
  },
  {
   "cell_type": "code",
   "execution_count": 44,
   "id": "f865befb",
   "metadata": {},
   "outputs": [
    {
     "name": "stdout",
     "output_type": "stream",
     "text": [
      "4\n",
      "[[0. 0. 0. 0.]\n",
      " [0. 1. 1. 0.]\n",
      " [0. 1. 1. 0.]\n",
      " [0. 0. 0. 0.]]\n"
     ]
    }
   ],
   "source": [
    "import numpy as np\n",
    "\n",
    "def task_12():\n",
    "    n = int(input())\n",
    "    array = np.ones((n, n))\n",
    "    array[0:, 0] = 0\n",
    "    array[0:, -1] = 0\n",
    "    array[0, 0:] = 0\n",
    "    array[-1, 0:] = 0\n",
    "    return array\n",
    "\n",
    "print(task_12())"
   ]
  },
  {
   "cell_type": "markdown",
   "id": "bf84c2b1",
   "metadata": {},
   "source": [
    "Вправа 15. Заповнити парні стовпчикі матриці розміром n×n\n",
    "одиницями, а непарні – нулями.\n",
    "In [2] task_16()\n",
    "5\n",
    "Out [2] [[0 1 0 1 0]\n",
    "[0 1 0 1 0]\n",
    "[0 1 0 1 0]\n",
    "[0 1 0 1 0]\n",
    "[0 1 0 1 0]]"
   ]
  },
  {
   "cell_type": "code",
   "execution_count": 45,
   "id": "6b7ed2aa",
   "metadata": {},
   "outputs": [
    {
     "name": "stdout",
     "output_type": "stream",
     "text": [
      "5\n",
      "[[0 1 0 1 0]\n",
      " [0 1 0 1 0]\n",
      " [0 1 0 1 0]\n",
      " [0 1 0 1 0]\n",
      " [0 1 0 1 0]]\n"
     ]
    }
   ],
   "source": [
    "import numpy as np\n",
    "\n",
    "def task_15():\n",
    "    n = int(input())\n",
    "    array = np.ones((n, n), dtype=int)\n",
    "    array[:, ::2] = 0 \n",
    "    return array\n",
    "\n",
    "print(task_15())"
   ]
  },
  {
   "cell_type": "markdown",
   "id": "58c12d51",
   "metadata": {},
   "source": [
    "Вправа 17. Заповнити вектор значеннями від 0 до n. Замінити\n",
    "знаки для всіх значень, що менші за n/2 та більші за 3n/4 на\n",
    "протилежні.\n",
    "In [2] task_18()\n",
    "10\n",
    "Out [2] [ 0 -1 2 3 4 5 6 7 8 -9 -10]"
   ]
  },
  {
   "cell_type": "code",
   "execution_count": 46,
   "id": "69a2b379",
   "metadata": {},
   "outputs": [
    {
     "name": "stdout",
     "output_type": "stream",
     "text": [
      "10\n",
      "[  0  -1  -2  -3  -4  -5   6   7  -8  -9 -10]\n"
     ]
    }
   ],
   "source": [
    "import numpy as np\n",
    "\n",
    "def task_17():\n",
    "    n = int(input())\n",
    "    vector = np.arange(n + 1)\n",
    "    condition = (vector <= n/2) | (vector > 3*n/4)  \n",
    "    vector[condition] *= -1  \n",
    "    return vector\n",
    "\n",
    "print(task_17())"
   ]
  },
  {
   "cell_type": "markdown",
   "id": "a7813ace",
   "metadata": {},
   "source": [
    "Вправа 18. Згенерувати вектор з n випадкових чисел в діапазоні\n",
    "від 0 до 99. Визначити кількість унікальних чисел в послідовності.\n",
    "In [2] task_19()\n",
    "30\n",
    "Out [2] В послідовності [ 5 77 15 21 8 44 58 77 6\n",
    "49 35 35 25 3 51 65 73 81 67 78 85 68 40 77 58 1 10 9\n",
    "59 13] - 26 унікальних чисел"
   ]
  },
  {
   "cell_type": "code",
   "execution_count": 47,
   "id": "be1c69a1",
   "metadata": {},
   "outputs": [
    {
     "name": "stdout",
     "output_type": "stream",
     "text": [
      "30\n",
      "В послідовності [ 7 82 48 26 88  5 37  8 27  9 75 44 63 11 80 51 82  7 41 56 67 51 30  1\n",
      " 78 30 99 73 10 44] - 25 унікальних чисел\n"
     ]
    }
   ],
   "source": [
    "import numpy as np\n",
    "\n",
    "def task_18():\n",
    "    n = int(input())\n",
    "    vector = np.random.randint(0, 100, size=n)  \n",
    "    unique_count = len(np.unique(vector)) \n",
    "    return f\"В послідовності {vector} - {unique_count} унікальних чисел\"\n",
    "\n",
    "print(task_18())"
   ]
  },
  {
   "cell_type": "markdown",
   "id": "2464abd8",
   "metadata": {},
   "source": [
    "2. Розв’язати систему алгебраїчних рівнянь за допомогою\n",
    "формул Крамера і виконати перевірку за допомогою:\n",
    "a) матричного множення;\n",
    "b) оберненої матриці;\n",
    "c) функції numpy.linalg.solve().\n",
    "Порівняти всі рішення за допомогою функції numpy.allclose().\n",
    "\n",
    "\\begin{cases}\n",
    "    x_1 + 5x_2 + 3x_3 - 4x_4 = 20 \\\\\n",
    "    3x_1 + x_2 - 2x_3 = 9 \\\\\n",
    "    5x_1 - 7x_2 + 10x_4 = -9 \\\\\n",
    "    3x_2 - 5x_3 = 1\n",
    "\\end{cases}"
   ]
  },
  {
   "cell_type": "code",
   "execution_count": 48,
   "id": "0339bf87",
   "metadata": {},
   "outputs": [
    {
     "name": "stdout",
     "output_type": "stream",
     "text": [
      "Розв'язок за допомогою numpy.linalg.solve(): [ 3.  2.  1. -1.]\n",
      "Розв'язок за допомогою оберненої матриці: [ 3.  2.  1. -1.]\n",
      "Розв'язок за формулами Крамера: [2.9999999999999982, 2.0, 1.0000000000000007, -0.9999999999999991]\n",
      "\n",
      "Перевірка розв'язку з numpy.linalg.solve() та формул Крамера: True\n",
      "Перевірка розв'язку з оберненою матрицею та формул Крамера: True\n"
     ]
    }
   ],
   "source": [
    "import numpy as np\n",
    "\n",
    "# Задання матриці коефіцієнтів A та вектора правих частин B\n",
    "A = np.array([[1, 5, 3, -4],\n",
    "              [3, 1, -2, 0],\n",
    "              [5, -7, 0, 10],\n",
    "              [0, 3, -5, 0]])\n",
    "\n",
    "B = np.array([20, 9, -9, 1])\n",
    "\n",
    "# Знаходимо визначник головної матриці Delta\n",
    "Delta = np.linalg.det(A)\n",
    "\n",
    "# Знаходимо визначники для матриць, утворених заміною стовпців відповідно до кожної змінної\n",
    "Deltas = []\n",
    "for i in range(A.shape[1]):\n",
    "    A_i = A.copy()\n",
    "    A_i[:, i] = B\n",
    "    Deltas.append(np.linalg.det(A_i))\n",
    "\n",
    "# Знаходимо розв'язки за формулами Крамера\n",
    "x_kramer = [Deltas[i] / Delta for i in range(len(Deltas))]\n",
    "\n",
    "# 1. Знаходження розв'язку за допомогою функції numpy.linalg.solve()\n",
    "x_solve = np.linalg.solve(A, B)\n",
    "\n",
    "# 2. Перевірка розв'язку за допомогою матричного множення та оберненої матриці\n",
    "A_inv = np.linalg.inv(A)\n",
    "x_inv = np.dot(A_inv, B)\n",
    "\n",
    "# 3. Порівняння з розв'язками за допомогою формул Крамера\n",
    "x_kramer = [Deltas[i] / Delta for i in range(len(Deltas))]\n",
    "\n",
    "# Порівняння розв'язків\n",
    "print(\"Розв'язок за допомогою numpy.linalg.solve():\", x_solve)\n",
    "print(\"Розв'язок за допомогою оберненої матриці:\", x_inv)\n",
    "print(\"Розв'язок за формулами Крамера:\", x_kramer)\n",
    "\n",
    "# Перевірка за допомогою numpy.allclose()\n",
    "check_solve = np.allclose(x_solve, x_kramer)\n",
    "check_inv = np.allclose(x_inv, x_kramer)\n",
    "\n",
    "print(\"\\nПеревірка розв'язку з numpy.linalg.solve() та формул Крамера:\", check_solve)\n",
    "print(\"Перевірка розв'язку з оберненою матрицею та формул Крамера:\", check_inv)\n"
   ]
  },
  {
   "cell_type": "markdown",
   "id": "91313eb8",
   "metadata": {},
   "source": [
    "3. Обчислити значення матричного виразу\n",
    "а) з використанням універсальних функцій бібліотеки NumPy.\n",
    "b) за допомогою ітеративних конструкцій (з використанням\n",
    "циклів, спискових включень тощо).\n",
    "с) для обох випадків підрахувати час виконання скрипту та\n",
    "зробити висновок.\n",
    "Порівняти всі рішення за допомогою функції numpy.allclose().\n",
    "\n",
    "\n",
    "(A - B^2)(2A + B), \n",
    "де A = \\begin{pmatrix}\n",
    "5 & 2 & 0 \\\\\n",
    "10 & 4 & 1 \\\\\n",
    "7 & 3 & 2\n",
    "\\end{pmatrix}, \n",
    "B = \\begin{pmatrix}\n",
    "3 & 6 & -1 \\\\\n",
    "-1 & -2 & 0 \\\\\n",
    "2 & 1 & 3\n",
    "\\end{pmatrix}"
   ]
  },
  {
   "cell_type": "code",
   "execution_count": 49,
   "id": "b23cba0b",
   "metadata": {},
   "outputs": [
    {
     "name": "stdout",
     "output_type": "stream",
     "text": [
      "Результат з використанням універсальних функцій NumPy:\n",
      "[[-714 -251  -71]\n",
      " [ 133   97   -2]\n",
      " [ -35   -7  -48]]\n",
      "Час виконання скрипту (NumPy): 0.0010001659393310547\n",
      "\n",
      "Результат з використанням ітеративних конструкцій:\n",
      "[[ -52 -340    1]\n",
      " [ 171    0    2]\n",
      " [  48   14  -49]]\n",
      "Час виконання скрипту (ітеративний): 0.0\n",
      "\n",
      "Чи співпадають результати обчислень за допомогою NumPy та ітеративних конструкцій:\n",
      "False\n"
     ]
    }
   ],
   "source": [
    "import numpy as np\n",
    "import time\n",
    "\n",
    "# Задання матриць A і B\n",
    "A = np.array([[5, 2, 0],\n",
    "              [10, 4, 1],\n",
    "              [7, 3, 2]])\n",
    "\n",
    "B = np.array([[3, 6, -1],\n",
    "              [-1, -2, 0],\n",
    "              [2, 1, 3]])\n",
    "\n",
    "# Обчислення значення матричного виразу з використанням універсальних функцій NumPy\n",
    "start_time = time.time()\n",
    "result_numpy = np.dot(A - np.square(B), 2 * A + B)\n",
    "numpy_execution_time = time.time() - start_time\n",
    "\n",
    "print(\"Результат з використанням універсальних функцій NumPy:\")\n",
    "print(result_numpy)\n",
    "print(\"Час виконання скрипту (NumPy):\", numpy_execution_time)\n",
    "\n",
    "# Обчислення значення матричного виразу за допомогою ітеративних конструкцій\n",
    "start_time = time.time()\n",
    "result_iterative = np.zeros_like(A)\n",
    "for i in range(A.shape[0]):\n",
    "    for j in range(A.shape[1]):\n",
    "        result_iterative[i, j] = (A[i, j] - B[i, j]**2) * (2 * A[i, j] + B[i, j])\n",
    "iterative_execution_time = time.time() - start_time\n",
    "\n",
    "print(\"\\nРезультат з використанням ітеративних конструкцій:\")\n",
    "print(result_iterative)\n",
    "print(\"Час виконання скрипту (ітеративний):\", iterative_execution_time)\n",
    "\n",
    "# Порівняння результатів\n",
    "print(\"\\nЧи співпадають результати обчислень за допомогою NumPy та ітеративних конструкцій:\")\n",
    "print(np.allclose(result_numpy, result_iterative))"
   ]
  },
  {
   "cell_type": "code",
   "execution_count": null,
   "id": "04c8f969",
   "metadata": {},
   "outputs": [],
   "source": []
  },
  {
   "cell_type": "code",
   "execution_count": null,
   "id": "5bc06713",
   "metadata": {},
   "outputs": [],
   "source": []
  }
 ],
 "metadata": {
  "kernelspec": {
   "display_name": "Python 3 (ipykernel)",
   "language": "python",
   "name": "python3"
  },
  "language_info": {
   "codemirror_mode": {
    "name": "ipython",
    "version": 3
   },
   "file_extension": ".py",
   "mimetype": "text/x-python",
   "name": "python",
   "nbconvert_exporter": "python",
   "pygments_lexer": "ipython3",
   "version": "3.11.5"
  }
 },
 "nbformat": 4,
 "nbformat_minor": 5
}
