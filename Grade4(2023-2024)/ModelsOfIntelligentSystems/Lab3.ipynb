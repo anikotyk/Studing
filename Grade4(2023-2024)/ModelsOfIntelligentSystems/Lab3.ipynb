{
 "cells": [
  {
   "cell_type": "markdown",
   "id": "c3bc1b6a",
   "metadata": {},
   "source": [
    "1. Виведіть перші 8 рядків набору даних."
   ]
  },
  {
   "cell_type": "code",
   "execution_count": 3,
   "id": "26f61719",
   "metadata": {},
   "outputs": [
    {
     "name": "stdout",
     "output_type": "stream",
     "text": [
      "   Id       Name  Year Gender  Count\n",
      "0   1       Mary  1880      F   7065\n",
      "1   2       Anna  1880      F   2604\n",
      "2   3       Emma  1880      F   2003\n",
      "3   4  Elizabeth  1880      F   1939\n",
      "4   5     Minnie  1880      F   1746\n",
      "5   6   Margaret  1880      F   1578\n",
      "6   7        Ida  1880      F   1472\n",
      "7   8      Alice  1880      F   1414\n"
     ]
    }
   ],
   "source": [
    "import pandas as pd\n",
    "df = pd.read_csv('NationalNames.csv')\n",
    "print(df.head(8))"
   ]
  },
  {
   "cell_type": "markdown",
   "id": "9f357537",
   "metadata": {},
   "source": [
    "2. Вивести останні 8 рядків набору даних."
   ]
  },
  {
   "cell_type": "code",
   "execution_count": 4,
   "id": "9ed78403",
   "metadata": {},
   "outputs": [
    {
     "name": "stdout",
     "output_type": "stream",
     "text": [
      "              Id     Name  Year Gender  Count\n",
      "1825425  1825426       Zo  2014      M      5\n",
      "1825426  1825427    Zyeir  2014      M      5\n",
      "1825427  1825428     Zyel  2014      M      5\n",
      "1825428  1825429   Zykeem  2014      M      5\n",
      "1825429  1825430   Zymeer  2014      M      5\n",
      "1825430  1825431  Zymiere  2014      M      5\n",
      "1825431  1825432    Zyran  2014      M      5\n",
      "1825432  1825433    Zyrin  2014      M      5\n"
     ]
    }
   ],
   "source": [
    "import pandas as pd\n",
    "df = pd.read_csv('NationalNames.csv')\n",
    "print(df.tail(8))"
   ]
  },
  {
   "cell_type": "markdown",
   "id": "c9e59212",
   "metadata": {},
   "source": [
    "3. Отримайте імена стовпців набору даних"
   ]
  },
  {
   "cell_type": "code",
   "execution_count": 5,
   "id": "d0921bd2",
   "metadata": {},
   "outputs": [
    {
     "name": "stdout",
     "output_type": "stream",
     "text": [
      "Index(['Id', 'Name', 'Year', 'Gender', 'Count'], dtype='object')\n"
     ]
    }
   ],
   "source": [
    "import pandas as pd\n",
    "df = pd.read_csv('NationalNames.csv')\n",
    "column_names = df.columns\n",
    "print(column_names)"
   ]
  },
  {
   "cell_type": "markdown",
   "id": "06395762",
   "metadata": {},
   "source": [
    "5. Знайдіть кількість унікальних імен у наборі даних"
   ]
  },
  {
   "cell_type": "code",
   "execution_count": 8,
   "id": "3134ae8c",
   "metadata": {},
   "outputs": [
    {
     "name": "stdout",
     "output_type": "stream",
     "text": [
      "Кількість унікальних імен у наборі даних: 93889\n"
     ]
    }
   ],
   "source": [
    "import pandas as pd\n",
    "\n",
    "df = pd.read_csv('NationalNames.csv')\n",
    "\n",
    "unique_names_count = df['Name'].nunique()\n",
    "print(\"Кількість унікальних імен у наборі даних:\", unique_names_count)"
   ]
  },
  {
   "cell_type": "markdown",
   "id": "d3c6b002",
   "metadata": {},
   "source": [
    "10. Підрахуйте кількість унікальних імен у кожному році"
   ]
  },
  {
   "cell_type": "code",
   "execution_count": 9,
   "id": "0d61a2d1",
   "metadata": {},
   "outputs": [
    {
     "name": "stdout",
     "output_type": "stream",
     "text": [
      "Year\n",
      "1880     1889\n",
      "1881     1830\n",
      "1882     2012\n",
      "1883     1962\n",
      "1884     2158\n",
      "        ...  \n",
      "2010    31603\n",
      "2011    31418\n",
      "2012    31236\n",
      "2013    30774\n",
      "2014    30579\n",
      "Name: Name, Length: 135, dtype: int64\n"
     ]
    }
   ],
   "source": [
    "import pandas as pd\n",
    "\n",
    "df = pd.read_csv('NationalNames.csv')\n",
    "\n",
    "unique_names_per_year = df.groupby('Year')['Name'].nunique()\n",
    "\n",
    "print(unique_names_per_year)"
   ]
  },
  {
   "cell_type": "markdown",
   "id": "12ff6d08",
   "metadata": {},
   "source": [
    "11. Знайдіть рік із найбільшою кількістю унікальних імен."
   ]
  },
  {
   "cell_type": "code",
   "execution_count": 10,
   "id": "8d393445",
   "metadata": {},
   "outputs": [
    {
     "name": "stdout",
     "output_type": "stream",
     "text": [
      "Рік з найбільшою кількістю унікальних імен: 2008\n"
     ]
    }
   ],
   "source": [
    "import pandas as pd\n",
    "\n",
    "df = pd.read_csv('NationalNames.csv')\n",
    "\n",
    "unique_names_per_year = df.groupby('Year')['Name'].nunique()\n",
    "\n",
    "year_with_most_unique_names = unique_names_per_year.idxmax()\n",
    "\n",
    "print(\"Рік з найбільшою кількістю унікальних імен:\", year_with_most_unique_names)"
   ]
  },
  {
   "cell_type": "markdown",
   "id": "73d8ae3f",
   "metadata": {},
   "source": [
    "12. Знайдіть найпопулярніше ім’я в році з найбільшою кількістю\n",
    "унікальних імен (тобто у 2008 році)"
   ]
  },
  {
   "cell_type": "code",
   "execution_count": 11,
   "id": "8e935bad",
   "metadata": {},
   "outputs": [
    {
     "name": "stdout",
     "output_type": "stream",
     "text": [
      "Найпопулярніше ім'я в році з найбільшою кількістю унікальних імен: Emma\n"
     ]
    }
   ],
   "source": [
    "import pandas as pd\n",
    "\n",
    "df = pd.read_csv('NationalNames.csv')\n",
    "\n",
    "unique_names_per_year = df.groupby('Year')['Name'].nunique()\n",
    "\n",
    "year_with_most_unique_names = unique_names_per_year.idxmax()\n",
    "\n",
    "data_most_unique_names_year = df[df['Year'] == year_with_most_unique_names]\n",
    "\n",
    "most_popular_name_most_unique_year = data_most_unique_names_year['Name'].value_counts().idxmax()\n",
    "\n",
    "print(\"Найпопулярніше ім'я в році з найбільшою кількістю унікальних імен:\", most_popular_name_most_unique_year)"
   ]
  },
  {
   "cell_type": "markdown",
   "id": "23396b82",
   "metadata": {},
   "source": [
    "13. Знайдіть рік, коли ім’я “Jacob” було найпопулярнішим серед\n",
    "жіночих імен"
   ]
  },
  {
   "cell_type": "code",
   "execution_count": 13,
   "id": "c9bd188a",
   "metadata": {},
   "outputs": [
    {
     "name": "stdout",
     "output_type": "stream",
     "text": [
      "Рік, коли ім'я 'Jacob' було найпопулярнішим серед жіночих імен: 2004\n"
     ]
    }
   ],
   "source": [
    "import pandas as pd\n",
    "\n",
    "df = pd.read_csv('NationalNames.csv')\n",
    "\n",
    "jacob_female = df[(df['Name'] == 'Jacob') & (df['Gender'] == 'F')]\n",
    "\n",
    "most_popular_year_jacob_female = jacob_female.groupby('Year')['Count'].sum().idxmax()\n",
    "\n",
    "print(\"Рік, коли ім'я 'Jacob' було найпопулярнішим серед жіночих імен:\", most_popular_year_jacob_female)"
   ]
  },
  {
   "cell_type": "markdown",
   "id": "a4dc7304",
   "metadata": {},
   "source": [
    "14. Знайти рік із найбільшою кількістю гендерно нейтральних імен\n",
    "(однакові чоловічі та жіночі імена)"
   ]
  },
  {
   "cell_type": "code",
   "execution_count": 14,
   "id": "173a4718",
   "metadata": {},
   "outputs": [
    {
     "name": "stdout",
     "output_type": "stream",
     "text": [
      "Рік з найбільшою кількістю гендерно нейтральних імен: (1880, 'Addie')\n"
     ]
    }
   ],
   "source": [
    "import pandas as pd\n",
    "\n",
    "df = pd.read_csv('NationalNames.csv')\n",
    "\n",
    "gender_counts_per_year = df.groupby(['Year', 'Name', 'Gender']).size().unstack(fill_value=0)\n",
    "\n",
    "gender_neutral_years = gender_counts_per_year[gender_counts_per_year['M'] == gender_counts_per_year['F']]\n",
    "\n",
    "year_with_most_gender_neutral_names = gender_neutral_years.sum(axis=1).idxmax()\n",
    "\n",
    "print(\"Рік з найбільшою кількістю гендерно нейтральних імен:\", year_with_most_gender_neutral_names)"
   ]
  },
  {
   "cell_type": "markdown",
   "id": "fa4fda46",
   "metadata": {},
   "source": [
    "15. Знайдіть загальну кількість народжень за рік."
   ]
  },
  {
   "cell_type": "code",
   "execution_count": 15,
   "id": "256d0da6",
   "metadata": {},
   "outputs": [
    {
     "name": "stdout",
     "output_type": "stream",
     "text": [
      "Загальна кількість народжень за рік:\n",
      "Year\n",
      "1880     201484\n",
      "1881     192699\n",
      "1882     221538\n",
      "1883     216950\n",
      "1884     243467\n",
      "         ...   \n",
      "2010    3686589\n",
      "2011    3646730\n",
      "2012    3643336\n",
      "2013    3626802\n",
      "2014    3670151\n",
      "Name: Count, Length: 135, dtype: int64\n"
     ]
    }
   ],
   "source": [
    "import pandas as pd\n",
    "\n",
    "df = pd.read_csv('NationalNames.csv')\n",
    "\n",
    "total_births_per_year = df.groupby('Year')['Count'].sum()\n",
    "\n",
    "print(\"Загальна кількість народжень за рік:\")\n",
    "print(total_births_per_year)"
   ]
  },
  {
   "cell_type": "markdown",
   "id": "c3dcb489",
   "metadata": {},
   "source": [
    "16. Знайдіть рік, коли народилося найбільше дітей"
   ]
  },
  {
   "cell_type": "code",
   "execution_count": 16,
   "id": "eb921d2a",
   "metadata": {},
   "outputs": [
    {
     "name": "stdout",
     "output_type": "stream",
     "text": [
      "Рік з найбільшою кількістю народжень: 1957\n"
     ]
    }
   ],
   "source": [
    "import pandas as pd\n",
    "\n",
    "df = pd.read_csv('NationalNames.csv')\n",
    "\n",
    "total_births_per_year = df.groupby('Year')['Count'].sum()\n",
    "\n",
    "year_with_most_births = total_births_per_year.idxmax()\n",
    "\n",
    "print(\"Рік з найбільшою кількістю народжень:\", year_with_most_births)"
   ]
  },
  {
   "cell_type": "markdown",
   "id": "45f23cd6",
   "metadata": {},
   "source": [
    "17. Знайдіть кількість дівчаток та хлопчиків, які народились кожного\n",
    "року"
   ]
  },
  {
   "cell_type": "code",
   "execution_count": 17,
   "id": "782c97c8",
   "metadata": {},
   "outputs": [
    {
     "name": "stdout",
     "output_type": "stream",
     "text": [
      "Кількість народжень за рік та стать:\n",
      "Year  Gender\n",
      "1880  F           90993\n",
      "      M          110491\n",
      "1881  F           91954\n",
      "      M          100745\n",
      "1882  F          107850\n",
      "                 ...   \n",
      "2012  M         1889414\n",
      "2013  F         1745339\n",
      "      M         1881463\n",
      "2014  F         1768775\n",
      "      M         1901376\n",
      "Name: Count, Length: 270, dtype: int64\n"
     ]
    }
   ],
   "source": [
    "import pandas as pd\n",
    "\n",
    "df = pd.read_csv('NationalNames.csv')\n",
    "\n",
    "gender_counts_per_year = df.groupby(['Year', 'Gender'])['Count'].sum()\n",
    "\n",
    "print(\"Кількість народжень за рік та стать:\")\n",
    "print(gender_counts_per_year)"
   ]
  },
  {
   "cell_type": "markdown",
   "id": "bdf7df7b",
   "metadata": {},
   "source": [
    "18. Підрахуйте кількість років, коли дівчаток народжувалось більше,\n",
    "ніж хлопчиків."
   ]
  },
  {
   "cell_type": "code",
   "execution_count": 18,
   "id": "25504839",
   "metadata": {},
   "outputs": [
    {
     "name": "stdout",
     "output_type": "stream",
     "text": [
      "Кількість років, коли дівчаток народжувалося більше, ніж хлопчиків: 54\n"
     ]
    }
   ],
   "source": [
    "import pandas as pd\n",
    "\n",
    "df = pd.read_csv('NationalNames.csv')\n",
    "\n",
    "gender_counts_per_year = df.groupby(['Year', 'Gender'])['Count'].sum()\n",
    "\n",
    "years_more_girls = (gender_counts_per_year.loc[:, 'F'] > gender_counts_per_year.loc[:, 'M']).sum()\n",
    "\n",
    "print(\"Кількість років, коли дівчаток народжувалося більше, ніж хлопчиків:\", years_more_girls)"
   ]
  },
  {
   "cell_type": "markdown",
   "id": "9be50797",
   "metadata": {},
   "source": [
    "21. Порахуйте, скільки разів хлопчиків називали Barbara"
   ]
  },
  {
   "cell_type": "code",
   "execution_count": 19,
   "id": "bfcb6a3d",
   "metadata": {},
   "outputs": [
    {
     "name": "stdout",
     "output_type": "stream",
     "text": [
      "Кількість разів, коли хлопчиків називали Barbara: 4139\n"
     ]
    }
   ],
   "source": [
    "import pandas as pd\n",
    "\n",
    "df = pd.read_csv('NationalNames.csv')\n",
    "\n",
    "barbara_male = df[(df['Name'] == 'Barbara') & (df['Gender'] == 'M')]\n",
    "\n",
    "count_barbara_male = barbara_male['Count'].sum()\n",
    "\n",
    "print(\"Кількість разів, коли хлопчиків називали Barbara:\", count_barbara_male)"
   ]
  },
  {
   "cell_type": "markdown",
   "id": "9c852773",
   "metadata": {},
   "source": [
    "22. Підрахуйте скільки років проводилось спостереження"
   ]
  },
  {
   "cell_type": "code",
   "execution_count": 20,
   "id": "1a0c6cb5",
   "metadata": {},
   "outputs": [
    {
     "name": "stdout",
     "output_type": "stream",
     "text": [
      "Кількість років проведення спостереження: 135\n"
     ]
    }
   ],
   "source": [
    "import pandas as pd\n",
    "\n",
    "df = pd.read_csv('NationalNames.csv')\n",
    "\n",
    "observation_years_count = df['Year'].nunique()\n",
    "\n",
    "print(\"Кількість років проведення спостереження:\", observation_years_count)"
   ]
  },
  {
   "cell_type": "markdown",
   "id": "45704602",
   "metadata": {},
   "source": [
    "23. Знати найпопулярніші гендерно-нейтральні імена (ті, що присутні\n",
    "кожного року)"
   ]
  },
  {
   "cell_type": "code",
   "execution_count": 24,
   "id": "3ce1be37",
   "metadata": {},
   "outputs": [
    {
     "name": "stdout",
     "output_type": "stream",
     "text": [
      "Найпопулярніші гендерно-нейтральні імена, які присутні кожного року: ['Francis', 'James', 'Jean', 'Jesse', 'Jessie', 'John', 'Johnnie', 'Joseph', 'Lee', 'Leslie']\n"
     ]
    }
   ],
   "source": [
    "import pandas as pd\n",
    "\n",
    "df = pd.read_csv('NationalNames.csv')\n",
    "\n",
    "name_counts_per_year = df.groupby(['Name', 'Year']).size().unstack(fill_value=0)\n",
    "\n",
    "total_years = len(name_counts_per_year.columns)\n",
    "\n",
    "gender_neutral_names = name_counts_per_year[(name_counts_per_year > 0).sum(axis=1) == total_years]\n",
    "\n",
    "most_popular_gender_neutral_names = gender_neutral_names.sum(axis=1).nlargest(10).index.tolist()\n",
    "\n",
    "print(\"Найпопулярніші гендерно-нейтральні імена, які присутні кожного року:\", most_popular_gender_neutral_names)"
   ]
  },
  {
   "cell_type": "markdown",
   "id": "4e5cf356",
   "metadata": {},
   "source": [
    "24. Знайти найпопулярніше серед непопулярних імен (непопулярне\n",
    "ім’я, яким називали дітей найбільшу кількість разів )"
   ]
  },
  {
   "cell_type": "code",
   "execution_count": 25,
   "id": "eb5dec57",
   "metadata": {},
   "outputs": [
    {
     "name": "stdout",
     "output_type": "stream",
     "text": [
      "Найпопулярніше серед непопулярних імен: Dezmin\n"
     ]
    }
   ],
   "source": [
    "import pandas as pd\n",
    "\n",
    "df = pd.read_csv('NationalNames.csv')\n",
    "\n",
    "name_counts = df['Name'].value_counts()\n",
    "\n",
    "average_name_count = name_counts.mean()\n",
    "\n",
    "unpopular_names = name_counts[name_counts < average_name_count]\n",
    "\n",
    "most_popular_unpopular_name = unpopular_names.idxmax()\n",
    "\n",
    "print(\"Найпопулярніше серед непопулярних імен:\", most_popular_unpopular_name)"
   ]
  },
  {
   "cell_type": "markdown",
   "id": "9f001330",
   "metadata": {},
   "source": [
    "26. Побудувати графіки розподілення кількості жіночих імен John та\n",
    "чоловічих імен Mary по роках."
   ]
  },
  {
   "cell_type": "code",
   "execution_count": 27,
   "id": "bafcbe83",
   "metadata": {},
   "outputs": [
    {
     "data": {
      "image/png": "[encoded data removed]",
      "text/plain": [
       "<Figure size 1000x600 with 1 Axes>"
      ]
     },
     "metadata": {},
     "output_type": "display_data"
    }
   ],
   "source": [
    "import pandas as pd\n",
    "import matplotlib.pyplot as plt\n",
    "\n",
    "# Зчитуємо дані\n",
    "df = pd.read_csv('NationalNames.csv')\n",
    "\n",
    "# Відфільтровуємо дані для імен \"John\" та \"Mary\" по статі\n",
    "john_data = df[(df['Name'] == 'John') & (df['Gender'] == 'M')]\n",
    "mary_data = df[(df['Name'] == 'Mary') & (df['Gender'] == 'F')]\n",
    "\n",
    "# Групуємо дані за роком та пораховуємо кількість народжень для кожного року\n",
    "john_counts = john_data.groupby('Year')['Count'].sum()\n",
    "mary_counts = mary_data.groupby('Year')['Count'].sum()\n",
    "\n",
    "# Побудова графіків за допомогою функцій plot() у pandas\n",
    "plt.figure(figsize=(10, 6))\n",
    "\n",
    "john_counts.plot(label='John', color='blue')\n",
    "mary_counts.plot(label='Mary', color='red')\n",
    "\n",
    "plt.title('Розподілення кількості народжень для імен \"John\" та \"Mary\" за роками')\n",
    "plt.xlabel('Рік')\n",
    "plt.ylabel('Кількість народжень')\n",
    "plt.legend()\n",
    "plt.grid(True)\n",
    "plt.show()"
   ]
  }
 ],
 "metadata": {
  "kernelspec": {
   "display_name": "Python 3 (ipykernel)",
   "language": "python",
   "name": "python3"
  },
  "language_info": {
   "codemirror_mode": {
    "name": "ipython",
    "version": 3
   },
   "file_extension": ".py",
   "mimetype": "text/x-python",
   "name": "python",
   "nbconvert_exporter": "python",
   "pygments_lexer": "ipython3",
   "version": "3.11.5"
  }
 },
 "nbformat": 4,
 "nbformat_minor": 5
}
