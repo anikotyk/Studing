{
 "cells": [
  {
   "cell_type": "code",
   "execution_count": 1,
   "id": "f9ba1848-3fc3-48d5-9435-2069739cf73a",
   "metadata": {},
   "outputs": [],
   "source": [
    "import pandas as pd"
   ]
  },
  {
   "cell_type": "code",
   "execution_count": 2,
   "id": "824c7d9e-9442-451b-b479-4f4ead692d38",
   "metadata": {},
   "outputs": [
    {
     "data": {
      "text/html": [
       "<div>\n",
       "<style scoped>\n",
       "    .dataframe tbody tr th:only-of-type {\n",
       "        vertical-align: middle;\n",
       "    }\n",
       "\n",
       "    .dataframe tbody tr th {\n",
       "        vertical-align: top;\n",
       "    }\n",
       "\n",
       "    .dataframe thead th {\n",
       "        text-align: right;\n",
       "    }\n",
       "</style>\n",
       "<table border=\"1\" class=\"dataframe\">\n",
       "  <thead>\n",
       "    <tr style=\"text-align: right;\">\n",
       "      <th></th>\n",
       "      <th>Unnamed: 0</th>\n",
       "      <th>Gender</th>\n",
       "      <th>EthnicGroup</th>\n",
       "      <th>ParentEduc</th>\n",
       "      <th>LunchType</th>\n",
       "      <th>TestPrep</th>\n",
       "      <th>ParentMaritalStatus</th>\n",
       "      <th>PracticeSport</th>\n",
       "      <th>IsFirstChild</th>\n",
       "      <th>NrSiblings</th>\n",
       "      <th>TransportMeans</th>\n",
       "      <th>WklyStudyHours</th>\n",
       "      <th>MathScore</th>\n",
       "      <th>ReadingScore</th>\n",
       "      <th>WritingScore</th>\n",
       "    </tr>\n",
       "  </thead>\n",
       "  <tbody>\n",
       "    <tr>\n",
       "      <th>0</th>\n",
       "      <td>0</td>\n",
       "      <td>female</td>\n",
       "      <td>NaN</td>\n",
       "      <td>bachelor's degree</td>\n",
       "      <td>standard</td>\n",
       "      <td>none</td>\n",
       "      <td>married</td>\n",
       "      <td>regularly</td>\n",
       "      <td>yes</td>\n",
       "      <td>3.0</td>\n",
       "      <td>school_bus</td>\n",
       "      <td>&lt; 5</td>\n",
       "      <td>71</td>\n",
       "      <td>71</td>\n",
       "      <td>74</td>\n",
       "    </tr>\n",
       "    <tr>\n",
       "      <th>1</th>\n",
       "      <td>1</td>\n",
       "      <td>female</td>\n",
       "      <td>group C</td>\n",
       "      <td>some college</td>\n",
       "      <td>standard</td>\n",
       "      <td>NaN</td>\n",
       "      <td>married</td>\n",
       "      <td>sometimes</td>\n",
       "      <td>yes</td>\n",
       "      <td>0.0</td>\n",
       "      <td>NaN</td>\n",
       "      <td>5 - 10</td>\n",
       "      <td>69</td>\n",
       "      <td>90</td>\n",
       "      <td>88</td>\n",
       "    </tr>\n",
       "    <tr>\n",
       "      <th>2</th>\n",
       "      <td>2</td>\n",
       "      <td>female</td>\n",
       "      <td>group B</td>\n",
       "      <td>master's degree</td>\n",
       "      <td>standard</td>\n",
       "      <td>none</td>\n",
       "      <td>single</td>\n",
       "      <td>sometimes</td>\n",
       "      <td>yes</td>\n",
       "      <td>4.0</td>\n",
       "      <td>school_bus</td>\n",
       "      <td>&lt; 5</td>\n",
       "      <td>87</td>\n",
       "      <td>93</td>\n",
       "      <td>91</td>\n",
       "    </tr>\n",
       "    <tr>\n",
       "      <th>3</th>\n",
       "      <td>3</td>\n",
       "      <td>male</td>\n",
       "      <td>group A</td>\n",
       "      <td>associate's degree</td>\n",
       "      <td>free/reduced</td>\n",
       "      <td>none</td>\n",
       "      <td>married</td>\n",
       "      <td>never</td>\n",
       "      <td>no</td>\n",
       "      <td>1.0</td>\n",
       "      <td>NaN</td>\n",
       "      <td>5 - 10</td>\n",
       "      <td>45</td>\n",
       "      <td>56</td>\n",
       "      <td>42</td>\n",
       "    </tr>\n",
       "    <tr>\n",
       "      <th>4</th>\n",
       "      <td>4</td>\n",
       "      <td>male</td>\n",
       "      <td>group C</td>\n",
       "      <td>some college</td>\n",
       "      <td>standard</td>\n",
       "      <td>none</td>\n",
       "      <td>married</td>\n",
       "      <td>sometimes</td>\n",
       "      <td>yes</td>\n",
       "      <td>0.0</td>\n",
       "      <td>school_bus</td>\n",
       "      <td>5 - 10</td>\n",
       "      <td>76</td>\n",
       "      <td>78</td>\n",
       "      <td>75</td>\n",
       "    </tr>\n",
       "  </tbody>\n",
       "</table>\n",
       "</div>"
      ],
      "text/plain": [
       "   Unnamed: 0  Gender EthnicGroup          ParentEduc     LunchType TestPrep  \\\n",
       "0           0  female         NaN   bachelor's degree      standard     none   \n",
       "1           1  female     group C        some college      standard      NaN   \n",
       "2           2  female     group B     master's degree      standard     none   \n",
       "3           3    male     group A  associate's degree  free/reduced     none   \n",
       "4           4    male     group C        some college      standard     none   \n",
       "\n",
       "  ParentMaritalStatus PracticeSport IsFirstChild  NrSiblings TransportMeans  \\\n",
       "0             married     regularly          yes         3.0     school_bus   \n",
       "1             married     sometimes          yes         0.0            NaN   \n",
       "2              single     sometimes          yes         4.0     school_bus   \n",
       "3             married         never           no         1.0            NaN   \n",
       "4             married     sometimes          yes         0.0     school_bus   \n",
       "\n",
       "  WklyStudyHours  MathScore  ReadingScore  WritingScore  \n",
       "0            < 5         71            71            74  \n",
       "1         5 - 10         69            90            88  \n",
       "2            < 5         87            93            91  \n",
       "3         5 - 10         45            56            42  \n",
       "4         5 - 10         76            78            75  "
      ]
     },
     "execution_count": 2,
     "metadata": {},
     "output_type": "execute_result"
    }
   ],
   "source": [
    "df = pd.read_csv('studentsExpanded.csv')\n",
    "df.head()"
   ]
  },
  {
   "cell_type": "code",
   "execution_count": 3,
   "id": "d696192d-9e1d-414c-9faa-a3b74cd414ee",
   "metadata": {},
   "outputs": [
    {
     "name": "stdout",
     "output_type": "stream",
     "text": [
      "Число студентів: 15217\n",
      "Число студенток: 15424\n"
     ]
    }
   ],
   "source": [
    "gender_distribution = df['Gender'].value_counts()\n",
    "\n",
    "num_male_students = gender_distribution.get('male', 0)\n",
    "num_female_students = gender_distribution.get('female', 0)\n",
    "\n",
    "print(\"Число студентів:\", num_male_students)\n",
    "print(\"Число студенток:\", num_female_students)"
   ]
  },
  {
   "cell_type": "code",
   "execution_count": 4,
   "id": "99dbad94-5e5b-45c5-aaf7-f8099205cb06",
   "metadata": {},
   "outputs": [
    {
     "name": "stdout",
     "output_type": "stream",
     "text": [
      "Відсоток студентів чоловічої статі: 49.6622172905584\n"
     ]
    }
   ],
   "source": [
    "percentage_male_students = (num_male_students / df.shape[0]) * 100\n",
    "print(\"Відсоток студентів чоловічої статі:\", percentage_male_students)"
   ]
  },
  {
   "cell_type": "code",
   "execution_count": 5,
   "id": "2e58da7b-9c3b-4f6a-b637-98d6ee96cb85",
   "metadata": {},
   "outputs": [
    {
     "name": "stdout",
     "output_type": "stream",
     "text": [
      "Відсоток студенток: 50.337782709441605\n"
     ]
    }
   ],
   "source": [
    "percentage_female_students = (num_female_students / df.shape[0]) * 100\n",
    "print(\"Відсоток студенток:\", percentage_female_students)"
   ]
  },
  {
   "cell_type": "code",
   "execution_count": 6,
   "id": "822b8cf7-80ff-4fd5-947b-224e1f8f8f0e",
   "metadata": {},
   "outputs": [],
   "source": [
    "ethnic_group_scores = df.groupby('EthnicGroup')"
   ]
  },
  {
   "cell_type": "code",
   "execution_count": 7,
   "id": "0c30cae6-2277-4c0c-ae15-668e637ebc96",
   "metadata": {},
   "outputs": [
    {
     "name": "stdout",
     "output_type": "stream",
     "text": [
      "Етнічна група з найвищим середнім балом з математики: group E\n"
     ]
    }
   ],
   "source": [
    "highest_math_score_ethnicity = ethnic_group_scores['MathScore'].mean().idxmax()\n",
    "print(\"Етнічна група з найвищим середнім балом з математики:\", highest_math_score_ethnicity)"
   ]
  },
  {
   "cell_type": "code",
   "execution_count": 8,
   "id": "01091fdb-5c04-437d-9977-31a7b7f1c819",
   "metadata": {},
   "outputs": [
    {
     "name": "stdout",
     "output_type": "stream",
     "text": [
      "Етнічна група з найвищим середнім балом читання: group E\n"
     ]
    }
   ],
   "source": [
    "highest_reading_score_ethnicity = ethnic_group_scores['ReadingScore'].mean().idxmax()\n",
    "print(\"Етнічна група з найвищим середнім балом читання:\", highest_reading_score_ethnicity)"
   ]
  },
  {
   "cell_type": "code",
   "execution_count": 9,
   "id": "4d5d09eb-0d31-481c-bb93-f0c0d18d1125",
   "metadata": {},
   "outputs": [
    {
     "name": "stdout",
     "output_type": "stream",
     "text": [
      "Етнічна група з найвищим середнім балом з письма: group E\n"
     ]
    }
   ],
   "source": [
    "highest_writing_score_ethnicity = ethnic_group_scores['WritingScore'].mean().idxmax()\n",
    "print(\"Етнічна група з найвищим середнім балом з письма:\", highest_writing_score_ethnicity)"
   ]
  },
  {
   "cell_type": "code",
   "execution_count": 10,
   "id": "826eb33f-d026-40a4-935c-5fb381850e1a",
   "metadata": {},
   "outputs": [],
   "source": [
    "df_test_prep_completed = df[df['TestPrep'] == 'completed']"
   ]
  },
  {
   "cell_type": "code",
   "execution_count": 11,
   "id": "26ddfc8e-616f-42de-800e-6377e77c1d29",
   "metadata": {},
   "outputs": [
    {
     "name": "stdout",
     "output_type": "stream",
     "text": [
      "Середній бал з математики для студентів, які закінчили курс підготовки до тесту: 69.5466599698644\n"
     ]
    }
   ],
   "source": [
    "average_math_score_test_prep = df_test_prep_completed['MathScore'].mean()\n",
    "print(\"Середній бал з математики для студентів, які закінчили курс підготовки до тесту:\", average_math_score_test_prep)"
   ]
  },
  {
   "cell_type": "code",
   "execution_count": 12,
   "id": "8743a45a-4272-41bb-b040-8c8aa5b7bd7d",
   "metadata": {},
   "outputs": [
    {
     "name": "stdout",
     "output_type": "stream",
     "text": [
      "Середній бал з читання для студентів, які пройшли курс підготовки до тесту: 73.73299849321948\n"
     ]
    }
   ],
   "source": [
    "average_reading_score_test_prep = df_test_prep_completed['ReadingScore'].mean()\n",
    "print(\"Середній бал з читання для студентів, які пройшли курс підготовки до тесту:\", average_reading_score_test_prep)"
   ]
  },
  {
   "cell_type": "code",
   "execution_count": 13,
   "id": "b718d7f7-6b57-4bc9-a51e-ecc876258af0",
   "metadata": {},
   "outputs": [
    {
     "name": "stdout",
     "output_type": "stream",
     "text": [
      "Середній бал з письма для студентів, які закінчили курс підготовки до тесту: 74.70326469111\n"
     ]
    }
   ],
   "source": [
    "average_writing_score_test_prep = df_test_prep_completed['WritingScore'].mean()\n",
    "print(\"Середній бал з письма для студентів, які закінчили курс підготовки до тесту:\", average_writing_score_test_prep)"
   ]
  },
  {
   "cell_type": "code",
   "execution_count": 14,
   "id": "a858a91e-8c77-4330-9b3c-bf7f8f7dee9e",
   "metadata": {},
   "outputs": [
    {
     "name": "stdout",
     "output_type": "stream",
     "text": [
      "Кількість студентів з одруженими батьками: 16844\n"
     ]
    }
   ],
   "source": [
    "students_with_married_parents = df[df['ParentMaritalStatus'] == 'married'].shape[0]\n",
    "print(\"Кількість студентів з одруженими батьками:\", students_with_married_parents)"
   ]
  },
  {
   "cell_type": "code",
   "execution_count": 15,
   "id": "a5059fed-0690-478b-ba52-bf64a5565fa1",
   "metadata": {},
   "outputs": [
    {
     "name": "stdout",
     "output_type": "stream",
     "text": [
      "Кількість студентів з батьками-одинаками: 7097\n"
     ]
    }
   ],
   "source": [
    "students_with_single_parents = df[df['ParentMaritalStatus'] == 'single'].shape[0]\n",
    "print(\"Кількість студентів з батьками-одинаками:\", students_with_single_parents)"
   ]
  },
  {
   "cell_type": "code",
   "execution_count": 16,
   "id": "396d86eb-5219-4cb3-96b1-76285b1136ff",
   "metadata": {},
   "outputs": [
    {
     "name": "stdout",
     "output_type": "stream",
     "text": [
      "Студенти, які регулярно займаються спортом, мають вищі середні результати з математики, ніж ті, хто ніколи не займається спортом\n"
     ]
    }
   ],
   "source": [
    "sport_math = df[df['PracticeSport'] == 'regularly']['MathScore'].mean()\n",
    "no_sport_math = df[df['PracticeSport'] == 'never']['MathScore'].mean()\n",
    "\n",
    "if(sport_math > no_sport_math):\n",
    "    print(\"Студенти, які регулярно займаються спортом, мають вищі середні результати з математики, ніж ті, хто ніколи не займається спортом\")\n",
    "else:\n",
    "    print(\"Студенти, які ніколи не займаються спортом, мають вищі середні результати з математики, ніж ті, хто регулярно займається спортом\")"
   ]
  },
  {
   "cell_type": "code",
   "execution_count": 17,
   "id": "f8d8478d-bf69-4040-871b-c0819f02515f",
   "metadata": {},
   "outputs": [
    {
     "name": "stdout",
     "output_type": "stream",
     "text": [
      "Студенти, які регулярно займаються спортом, мають вищі середні результати з читання, ніж ті, хто ніколи не займається спортом\n"
     ]
    }
   ],
   "source": [
    "sport_reading = df[df['PracticeSport'] == 'regularly']['ReadingScore'].mean()\n",
    "no_sport_reading = df[df['PracticeSport'] == 'never']['ReadingScore'].mean()\n",
    "\n",
    "if(sport_reading > no_sport_reading):\n",
    "    print(\"Студенти, які регулярно займаються спортом, мають вищі середні результати з читання, ніж ті, хто ніколи не займається спортом\")\n",
    "else:\n",
    "    print(\"Студенти, які ніколи не займаються спортом, мають вищі середні результати з читання, ніж ті, хто регулярно займається спортом\")"
   ]
  },
  {
   "cell_type": "code",
   "execution_count": 18,
   "id": "f066e6bd-48da-4f91-bba7-2db8268b799a",
   "metadata": {},
   "outputs": [
    {
     "name": "stdout",
     "output_type": "stream",
     "text": [
      "Кількість учнів, які використовують шкільний автобус: 16145\n"
     ]
    }
   ],
   "source": [
    "school_bus_count = df[df['TransportMeans'] == 'school_bus'].shape[0]\n",
    "print(f\"Кількість учнів, які використовують шкільний автобус: {school_bus_count}\")"
   ]
  },
  {
   "cell_type": "code",
   "execution_count": 19,
   "id": "72fe6005-95ce-4efc-8cf0-6bb11f995745",
   "metadata": {},
   "outputs": [
    {
     "name": "stdout",
     "output_type": "stream",
     "text": [
      "Кількість учнів, які використовують приватний транспорт: 11362\n"
     ]
    }
   ],
   "source": [
    "private_transport_count = df[df['TransportMeans'] == 'private'].shape[0]\n",
    "print(f\"Кількість учнів, які використовують приватний транспорт: {private_transport_count}\")"
   ]
  },
  {
   "cell_type": "markdown",
   "id": "18ed0a71-a389-42f9-9024-26b93684cef4",
   "metadata": {},
   "source": [
    "<b>Задача класифікації 5 балів</b>"
   ]
  },
  {
   "cell_type": "code",
   "execution_count": 21,
   "id": "227a1794-eca2-4bbf-a129-d6b9ba3c5139",
   "metadata": {},
   "outputs": [
    {
     "data": {
      "text/html": [
       "<style>#sk-container-id-1 {color: black;background-color: white;}#sk-container-id-1 pre{padding: 0;}#sk-container-id-1 div.sk-toggleable {background-color: white;}#sk-container-id-1 label.sk-toggleable__label {cursor: pointer;display: block;width: 100%;margin-bottom: 0;padding: 0.3em;box-sizing: border-box;text-align: center;}#sk-container-id-1 label.sk-toggleable__label-arrow:before {content: \"▸\";float: left;margin-right: 0.25em;color: #696969;}#sk-container-id-1 label.sk-toggleable__label-arrow:hover:before {color: black;}#sk-container-id-1 div.sk-estimator:hover label.sk-toggleable__label-arrow:before {color: black;}#sk-container-id-1 div.sk-toggleable__content {max-height: 0;max-width: 0;overflow: hidden;text-align: left;background-color: #f0f8ff;}#sk-container-id-1 div.sk-toggleable__content pre {margin: 0.2em;color: black;border-radius: 0.25em;background-color: #f0f8ff;}#sk-container-id-1 input.sk-toggleable__control:checked~div.sk-toggleable__content {max-height: 200px;max-width: 100%;overflow: auto;}#sk-container-id-1 input.sk-toggleable__control:checked~label.sk-toggleable__label-arrow:before {content: \"▾\";}#sk-container-id-1 div.sk-estimator input.sk-toggleable__control:checked~label.sk-toggleable__label {background-color: #d4ebff;}#sk-container-id-1 div.sk-label input.sk-toggleable__control:checked~label.sk-toggleable__label {background-color: #d4ebff;}#sk-container-id-1 input.sk-hidden--visually {border: 0;clip: rect(1px 1px 1px 1px);clip: rect(1px, 1px, 1px, 1px);height: 1px;margin: -1px;overflow: hidden;padding: 0;position: absolute;width: 1px;}#sk-container-id-1 div.sk-estimator {font-family: monospace;background-color: #f0f8ff;border: 1px dotted black;border-radius: 0.25em;box-sizing: border-box;margin-bottom: 0.5em;}#sk-container-id-1 div.sk-estimator:hover {background-color: #d4ebff;}#sk-container-id-1 div.sk-parallel-item::after {content: \"\";width: 100%;border-bottom: 1px solid gray;flex-grow: 1;}#sk-container-id-1 div.sk-label:hover label.sk-toggleable__label {background-color: #d4ebff;}#sk-container-id-1 div.sk-serial::before {content: \"\";position: absolute;border-left: 1px solid gray;box-sizing: border-box;top: 0;bottom: 0;left: 50%;z-index: 0;}#sk-container-id-1 div.sk-serial {display: flex;flex-direction: column;align-items: center;background-color: white;padding-right: 0.2em;padding-left: 0.2em;position: relative;}#sk-container-id-1 div.sk-item {position: relative;z-index: 1;}#sk-container-id-1 div.sk-parallel {display: flex;align-items: stretch;justify-content: center;background-color: white;position: relative;}#sk-container-id-1 div.sk-item::before, #sk-container-id-1 div.sk-parallel-item::before {content: \"\";position: absolute;border-left: 1px solid gray;box-sizing: border-box;top: 0;bottom: 0;left: 50%;z-index: -1;}#sk-container-id-1 div.sk-parallel-item {display: flex;flex-direction: column;z-index: 1;position: relative;background-color: white;}#sk-container-id-1 div.sk-parallel-item:first-child::after {align-self: flex-end;width: 50%;}#sk-container-id-1 div.sk-parallel-item:last-child::after {align-self: flex-start;width: 50%;}#sk-container-id-1 div.sk-parallel-item:only-child::after {width: 0;}#sk-container-id-1 div.sk-dashed-wrapped {border: 1px dashed gray;margin: 0 0.4em 0.5em 0.4em;box-sizing: border-box;padding-bottom: 0.4em;background-color: white;}#sk-container-id-1 div.sk-label label {font-family: monospace;font-weight: bold;display: inline-block;line-height: 1.2em;}#sk-container-id-1 div.sk-label-container {text-align: center;}#sk-container-id-1 div.sk-container {/* jupyter's `normalize.less` sets `[hidden] { display: none; }` but bootstrap.min.css set `[hidden] { display: none !important; }` so we also need the `!important` here to be able to override the default hidden behavior on the sphinx rendered scikit-learn.org. See: https://github.com/scikit-learn/scikit-learn/issues/21755 */display: inline-block !important;position: relative;}#sk-container-id-1 div.sk-text-repr-fallback {display: none;}</style><div id=\"sk-container-id-1\" class=\"sk-top-container\"><div class=\"sk-text-repr-fallback\"><pre>RandomForestClassifier(random_state=42)</pre><b>In a Jupyter environment, please rerun this cell to show the HTML representation or trust the notebook. <br />On GitHub, the HTML representation is unable to render, please try loading this page with nbviewer.org.</b></div><div class=\"sk-container\" hidden><div class=\"sk-item\"><div class=\"sk-estimator sk-toggleable\"><input class=\"sk-toggleable__control sk-hidden--visually\" id=\"sk-estimator-id-1\" type=\"checkbox\" checked><label for=\"sk-estimator-id-1\" class=\"sk-toggleable__label sk-toggleable__label-arrow\">RandomForestClassifier</label><div class=\"sk-toggleable__content\"><pre>RandomForestClassifier(random_state=42)</pre></div></div></div></div></div>"
      ],
      "text/plain": [
       "RandomForestClassifier(random_state=42)"
      ]
     },
     "execution_count": 21,
     "metadata": {},
     "output_type": "execute_result"
    }
   ],
   "source": [
    "import nltk\n",
    "import numpy as np\n",
    "import pandas as pd\n",
    "import urlextract\n",
    "from scipy.sparse import csr_matrix\n",
    "from sklearn.base import BaseEstimator, TransformerMixin\n",
    "from sklearn.compose import ColumnTransformer\n",
    "from sklearn.datasets import fetch_openml\n",
    "from sklearn.ensemble import RandomForestClassifier\n",
    "from sklearn.impute import SimpleImputer\n",
    "from sklearn.linear_model import LogisticRegression\n",
    "from sklearn.metrics import precision_score, recall_score\n",
    "from sklearn.model_selection import GridSearchCV\n",
    "from sklearn.model_selection import cross_val_score\n",
    "from sklearn.model_selection import train_test_split\n",
    "from sklearn.neighbors import KNeighborsClassifier\n",
    "from sklearn.pipeline import Pipeline\n",
    "from sklearn.preprocessing import OneHotEncoder\n",
    "from sklearn.preprocessing import StandardScaler\n",
    "\n",
    "num_pipeline = Pipeline([\n",
    "        (\"imputer\", SimpleImputer(strategy=\"median\")),\n",
    "        (\"scaler\", StandardScaler())\n",
    "    ])\n",
    "\n",
    "cat_pipeline = Pipeline([\n",
    "        (\"imputer\", SimpleImputer(strategy=\"most_frequent\")),\n",
    "        (\"cat_encoder\", OneHotEncoder(sparse_output=False)),\n",
    "    ])\n",
    "\n",
    "num_attribs = [\"MathScore\", \"ReadingScore\", \"WritingScore\"]\n",
    "cat_attribs = [\"Gender\", \"EthnicGroup\", \"ParentEduc\", \"LunchType\", \"ParentMaritalStatus\", \"PracticeSport\", \"IsFirstChild\", \"NrSiblings\", \"TransportMeans\", \"WklyStudyHours\"]\n",
    "\n",
    "preprocess_pipeline = ColumnTransformer([\n",
    "        (\"num\", num_pipeline, num_attribs),\n",
    "        (\"cat\", cat_pipeline, cat_attribs),\n",
    "    ])\n",
    "\n",
    "X_train = preprocess_pipeline.fit_transform(\n",
    "    df[num_attribs + cat_attribs])\n",
    "df[\"TestPrep\"].fillna(\"none\", inplace=True)\n",
    "y_train = df[\"TestPrep\"]\n",
    "forest_clf = RandomForestClassifier(n_estimators=100, random_state=42)\n",
    "forest_clf.fit(X_train, y_train)"
   ]
  },
  {
   "cell_type": "code",
   "execution_count": 22,
   "id": "7564fae2-0b90-43ca-a0d7-36207e663084",
   "metadata": {},
   "outputs": [],
   "source": [
    "X_test = preprocess_pipeline.transform(df[num_attribs + cat_attribs])\n",
    "y_pred = forest_clf.predict(X_test)"
   ]
  },
  {
   "cell_type": "code",
   "execution_count": 23,
   "id": "c1a206cd-94e6-4df2-ab31-4c4e029db828",
   "metadata": {},
   "outputs": [
    {
     "data": {
      "text/plain": [
       "0.7197544499295082"
      ]
     },
     "execution_count": 23,
     "metadata": {},
     "output_type": "execute_result"
    }
   ],
   "source": [
    "forest_scores = cross_val_score(forest_clf, X_train, y_train, cv=10)\n",
    "forest_scores.mean()"
   ]
  },
  {
   "cell_type": "code",
   "execution_count": null,
   "id": "dbb8c4bd-7955-4afc-9749-58fc6568f2b5",
   "metadata": {},
   "outputs": [],
   "source": []
  }
 ],
 "metadata": {
  "kernelspec": {
   "display_name": "Python 3 (ipykernel)",
   "language": "python",
   "name": "python3"
  },
  "language_info": {
   "codemirror_mode": {
    "name": "ipython",
    "version": 3
   },
   "file_extension": ".py",
   "mimetype": "text/x-python",
   "name": "python",
   "nbconvert_exporter": "python",
   "pygments_lexer": "ipython3",
   "version": "3.11.5"
  }
 },
 "nbformat": 4,
 "nbformat_minor": 5
}
